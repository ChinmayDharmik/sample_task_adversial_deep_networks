{
 "cells": [
  {
   "cell_type": "code",
   "execution_count": 1,
   "metadata": {},
   "outputs": [],
   "source": [
    "import torch\n",
    "import torch.nn as nn\n",
    "import torchvision\n",
    "import torchvision.transforms as transforms\n",
    "import torch.optim as optim\n",
    "\n",
    "import numpy as np\n",
    "import matplotlib.pyplot as plt\n",
    "\n",
    "torch.manual_seed(1000)\n",
    "\n",
    "import time\n",
    "\n",
    "from models.CNN import Net\n",
    "from Utils import Utils"
   ]
  },
  {
   "cell_type": "code",
   "execution_count": 2,
   "metadata": {},
   "outputs": [
    {
     "name": "stdout",
     "output_type": "stream",
     "text": [
      "Files already downloaded and verified\n",
      "Files already downloaded and verified\n"
     ]
    }
   ],
   "source": [
    "transform = transforms.Compose([\n",
    "    transforms.ToTensor(),\n",
    "    transforms.Normalize((0.5, 0.5, 0.5), (0.5, 0.5, 0.5))\n",
    "])\n",
    "\n",
    "batch_size = 512\n",
    "\n",
    "trainset = torchvision.datasets.CIFAR10(root='~/data',\n",
    "                                        train=True,\n",
    "                                        download=True,\n",
    "                                        transform=transform)\n",
    "trainloader = torch.utils.data.DataLoader(trainset,\n",
    "                                        batch_size=batch_size,\n",
    "                                        shuffle=True,\n",
    "                                        num_workers=24)\n",
    "\n",
    "testset = torchvision.datasets.CIFAR10(root='~/data',\n",
    "                                    train=False,\n",
    "                                    download=True,\n",
    "                                    transform=transform)\n",
    "testloader = torch.utils.data.DataLoader(testset,\n",
    "                                        batch_size=batch_size,\n",
    "                                        shuffle=False,\n",
    "                                        num_workers=24)\n",
    "\n",
    "classes = ('plane', 'car', 'bird', 'cat', 'deer',\n",
    "        'dog', 'frog', 'horse', 'ship', 'truck')"
   ]
  },
  {
   "cell_type": "code",
   "execution_count": 3,
   "metadata": {},
   "outputs": [],
   "source": [
    "cnn_exp = Utils(Net)"
   ]
  },
  {
   "cell_type": "code",
   "execution_count": 4,
   "metadata": {},
   "outputs": [
    {
     "name": "stdout",
     "output_type": "stream",
     "text": [
      "Training the Model...\n",
      "------------------------------\n",
      "Epoch: 1/40...\t|\tLoss: 2.3038\t|\tTrain Accuracy: 8.67%\t|\tTime per Epoch: 1.66 seconds\n",
      "Epoch: 2/40...\t|\tLoss: 2.3026\t|\tTrain Accuracy: 9.20%\t|\tTime per Epoch: 1.38 seconds\n",
      "Epoch: 3/40...\t|\tLoss: 2.3014\t|\tTrain Accuracy: 10.07%\t|\tTime per Epoch: 1.37 seconds\n",
      "Epoch: 4/40...\t|\tLoss: 2.3002\t|\tTrain Accuracy: 10.63%\t|\tTime per Epoch: 1.37 seconds\n",
      "Epoch: 5/40...\t|\tLoss: 2.2988\t|\tTrain Accuracy: 11.43%\t|\tTime per Epoch: 1.40 seconds\n",
      "Epoch: 6/40...\t|\tLoss: 2.2970\t|\tTrain Accuracy: 14.85%\t|\tTime per Epoch: 1.47 seconds\n",
      "Epoch: 7/40...\t|\tLoss: 2.2946\t|\tTrain Accuracy: 18.73%\t|\tTime per Epoch: 1.64 seconds\n",
      "Epoch: 8/40...\t|\tLoss: 2.2909\t|\tTrain Accuracy: 19.61%\t|\tTime per Epoch: 1.66 seconds\n",
      "Epoch: 9/40...\t|\tLoss: 2.2851\t|\tTrain Accuracy: 19.13%\t|\tTime per Epoch: 1.67 seconds\n",
      "Epoch: 10/40...\t|\tLoss: 2.2750\t|\tTrain Accuracy: 19.75%\t|\tTime per Epoch: 1.48 seconds\n",
      "Epoch: 11/40...\t|\tLoss: 2.2568\t|\tTrain Accuracy: 20.43%\t|\tTime per Epoch: 2.02 seconds\n",
      "Epoch: 12/40...\t|\tLoss: 2.2204\t|\tTrain Accuracy: 21.48%\t|\tTime per Epoch: 2.15 seconds\n",
      "Epoch: 13/40...\t|\tLoss: 2.1490\t|\tTrain Accuracy: 23.77%\t|\tTime per Epoch: 2.31 seconds\n",
      "Epoch: 14/40...\t|\tLoss: 2.0735\t|\tTrain Accuracy: 25.56%\t|\tTime per Epoch: 1.73 seconds\n",
      "Epoch: 15/40...\t|\tLoss: 2.0232\t|\tTrain Accuracy: 26.95%\t|\tTime per Epoch: 1.73 seconds\n",
      "Epoch: 16/40...\t|\tLoss: 1.9880\t|\tTrain Accuracy: 28.18%\t|\tTime per Epoch: 1.43 seconds\n",
      "Epoch: 17/40...\t|\tLoss: 1.9641\t|\tTrain Accuracy: 29.12%\t|\tTime per Epoch: 1.49 seconds\n",
      "Epoch: 18/40...\t|\tLoss: 1.9413\t|\tTrain Accuracy: 30.06%\t|\tTime per Epoch: 1.47 seconds\n",
      "Epoch: 19/40...\t|\tLoss: 1.9194\t|\tTrain Accuracy: 30.86%\t|\tTime per Epoch: 1.46 seconds\n",
      "Epoch: 20/40...\t|\tLoss: 1.8955\t|\tTrain Accuracy: 31.54%\t|\tTime per Epoch: 1.50 seconds\n",
      "Epoch: 21/40...\t|\tLoss: 1.8676\t|\tTrain Accuracy: 32.49%\t|\tTime per Epoch: 1.35 seconds\n",
      "Epoch: 22/40...\t|\tLoss: 1.8381\t|\tTrain Accuracy: 33.29%\t|\tTime per Epoch: 1.30 seconds\n",
      "Epoch: 23/40...\t|\tLoss: 1.8061\t|\tTrain Accuracy: 34.29%\t|\tTime per Epoch: 1.38 seconds\n",
      "Epoch: 24/40...\t|\tLoss: 1.7760\t|\tTrain Accuracy: 35.26%\t|\tTime per Epoch: 1.38 seconds\n",
      "Epoch: 25/40...\t|\tLoss: 1.7485\t|\tTrain Accuracy: 36.41%\t|\tTime per Epoch: 1.34 seconds\n",
      "Epoch: 26/40...\t|\tLoss: 1.7238\t|\tTrain Accuracy: 37.05%\t|\tTime per Epoch: 1.34 seconds\n",
      "Epoch: 27/40...\t|\tLoss: 1.7028\t|\tTrain Accuracy: 37.85%\t|\tTime per Epoch: 1.38 seconds\n",
      "Epoch: 28/40...\t|\tLoss: 1.6854\t|\tTrain Accuracy: 38.62%\t|\tTime per Epoch: 1.33 seconds\n",
      "Epoch: 29/40...\t|\tLoss: 1.6710\t|\tTrain Accuracy: 39.39%\t|\tTime per Epoch: 1.34 seconds\n",
      "Epoch: 30/40...\t|\tLoss: 1.6538\t|\tTrain Accuracy: 39.99%\t|\tTime per Epoch: 1.33 seconds\n",
      "Epoch: 31/40...\t|\tLoss: 1.6381\t|\tTrain Accuracy: 40.42%\t|\tTime per Epoch: 1.41 seconds\n",
      "Epoch: 32/40...\t|\tLoss: 1.6264\t|\tTrain Accuracy: 41.01%\t|\tTime per Epoch: 1.38 seconds\n",
      "Epoch: 33/40...\t|\tLoss: 1.6102\t|\tTrain Accuracy: 41.50%\t|\tTime per Epoch: 1.49 seconds\n",
      "Epoch: 34/40...\t|\tLoss: 1.5946\t|\tTrain Accuracy: 42.21%\t|\tTime per Epoch: 1.36 seconds\n",
      "Epoch: 35/40...\t|\tLoss: 1.5833\t|\tTrain Accuracy: 42.56%\t|\tTime per Epoch: 1.39 seconds\n",
      "Epoch: 36/40...\t|\tLoss: 1.5709\t|\tTrain Accuracy: 43.06%\t|\tTime per Epoch: 1.31 seconds\n",
      "Epoch: 37/40...\t|\tLoss: 1.5592\t|\tTrain Accuracy: 43.71%\t|\tTime per Epoch: 1.33 seconds\n",
      "Epoch: 38/40...\t|\tLoss: 1.5446\t|\tTrain Accuracy: 44.05%\t|\tTime per Epoch: 1.41 seconds\n",
      "Epoch: 39/40...\t|\tLoss: 1.5337\t|\tTrain Accuracy: 44.39%\t|\tTime per Epoch: 1.39 seconds\n",
      "Epoch: 40/40...\t|\tLoss: 1.5221\t|\tTrain Accuracy: 44.89%\t|\tTime per Epoch: 1.34 seconds\n"
     ]
    }
   ],
   "source": [
    "net = cnn_exp.train(trainloader)"
   ]
  },
  {
   "cell_type": "code",
   "execution_count": 5,
   "metadata": {},
   "outputs": [
    {
     "name": "stdout",
     "output_type": "stream",
     "text": [
      "Testing the Model...\n",
      "------------------------------\n",
      "Accuracy for class: plane is 47.1 %\n",
      "Accuracy for class: car   is 48.6 %\n",
      "Accuracy for class: bird  is 18.6 %\n",
      "Accuracy for class: cat   is 31.6 %\n",
      "Accuracy for class: deer  is 27.3 %\n",
      "Accuracy for class: dog   is 34.6 %\n",
      "Accuracy for class: frog  is 63.0 %\n",
      "Accuracy for class: horse is 60.4 %\n",
      "Accuracy for class: ship  is 56.0 %\n",
      "Accuracy for class: truck is 56.8 %\n"
     ]
    }
   ],
   "source": [
    "cnn_exp.test(testloader)"
   ]
  },
  {
   "cell_type": "code",
   "execution_count": 6,
   "metadata": {},
   "outputs": [],
   "source": [
    "torch.save(net.state_dict(), './pytorch-model.pth')"
   ]
  },
  {
   "cell_type": "code",
   "execution_count": 7,
   "metadata": {},
   "outputs": [],
   "source": [
    "images, labels = next(iter(testloader))"
   ]
  },
  {
   "cell_type": "markdown",
   "metadata": {},
   "source": [
    "1. Untargeted attacks"
   ]
  },
  {
   "cell_type": "code",
   "execution_count": 8,
   "metadata": {},
   "outputs": [],
   "source": [
    "adv_image = cnn_exp.untargeted_attack(images[0].unsqueeze(0), labels[0].unsqueeze(0), 0.031)"
   ]
  },
  {
   "cell_type": "code",
   "execution_count": 9,
   "metadata": {},
   "outputs": [
    {
     "name": "stdout",
     "output_type": "stream",
     "text": [
      "Testing the Model...\n",
      "------------------------------\n",
      "Accuracy for class: plane is 64.0 %\n",
      "Accuracy for class: car   is 1.3 %\n",
      "Accuracy for class: bird  is 14.1 %\n",
      "Accuracy for class: cat   is 3.1 %\n",
      "Accuracy for class: deer  is 64.5 %\n",
      "Accuracy for class: dog   is 25.9 %\n",
      "Accuracy for class: frog  is 22.9 %\n",
      "Accuracy for class: horse is 43.3 %\n",
      "Accuracy for class: ship  is 13.6 %\n",
      "Accuracy for class: truck is 4.2 %\n"
     ]
    }
   ],
   "source": [
    "cnn_exp.test_untargeted(testloader)"
   ]
  },
  {
   "cell_type": "code",
   "execution_count": 10,
   "metadata": {},
   "outputs": [
    {
     "name": "stderr",
     "output_type": "stream",
     "text": [
      "Clipping input data to the valid range for imshow with RGB data ([0..1] for floats or [0..255] for integers).\n",
      "Clipping input data to the valid range for imshow with RGB data ([0..1] for floats or [0..255] for integers).\n"
     ]
    },
    {
     "data": {
      "image/png": "[encoded data removed]",
      "text/plain": [
       "<Figure size 1200x400 with 3 Axes>"
      ]
     },
     "metadata": {},
     "output_type": "display_data"
    }
   ],
   "source": [
    "import matplotlib.pyplot as plt\n",
    "\n",
    "# Convert the adversarial image, original image, and noise tensor to NumPy arrays\n",
    "adv_image_np = adv_image.squeeze().detach().cpu().numpy()\n",
    "original_image_np = images[0].squeeze().detach().cpu().numpy()\n",
    "noise_np = (adv_image_np - original_image_np)\n",
    "\n",
    "# Create subplots to display original image, noise, and adversarial image side by side\n",
    "fig, axes = plt.subplots(1, 3, figsize=(12, 4))\n",
    "axes[0].imshow(original_image_np.transpose(1, 2, 0))  # Assuming image is in CHW format\n",
    "axes[0].set_title('Original Image')\n",
    "\n",
    "axes[1].imshow(noise_np.transpose(1, 2, 0))  # Assuming noise is in CHW format\n",
    "axes[1].set_title('Adversarial Noise')\n",
    "\n",
    "axes[2].imshow(adv_image_np.transpose(1, 2, 0))  # Assuming adversarial image is in CHW format\n",
    "axes[2].set_title('Adversarial Image')\n",
    "\n",
    "plt.show()\n"
   ]
  },
  {
   "cell_type": "markdown",
   "metadata": {},
   "source": [
    "2. Untargeted attacks"
   ]
  },
  {
   "cell_type": "code",
   "execution_count": 11,
   "metadata": {},
   "outputs": [],
   "source": [
    "adv_image = cnn_exp.targeted_attack(images[1].unsqueeze(0), 8, 0.3)"
   ]
  },
  {
   "cell_type": "code",
   "execution_count": 12,
   "metadata": {},
   "outputs": [
    {
     "name": "stderr",
     "output_type": "stream",
     "text": [
      "Clipping input data to the valid range for imshow with RGB data ([0..1] for floats or [0..255] for integers).\n",
      "Clipping input data to the valid range for imshow with RGB data ([0..1] for floats or [0..255] for integers).\n"
     ]
    },
    {
     "data": {
      "image/png": "[encoded data removed]",
      "text/plain": [
       "<Figure size 1200x400 with 3 Axes>"
      ]
     },
     "metadata": {},
     "output_type": "display_data"
    }
   ],
   "source": [
    "import matplotlib.pyplot as plt\n",
    "\n",
    "# Convert the adversarial image, original image, and noise tensor to NumPy arrays\n",
    "adv_image_np = adv_image.squeeze().detach().cpu().numpy()\n",
    "original_image_np = images[0].squeeze().detach().cpu().numpy()\n",
    "noise_np = (adv_image_np - original_image_np)\n",
    "\n",
    "# Create subplots to display original image, noise, and adversarial image side by side\n",
    "fig, axes = plt.subplots(1, 3, figsize=(12, 4))\n",
    "axes[0].imshow(original_image_np.transpose(1, 2, 0))  # Assuming image is in CHW format\n",
    "axes[0].set_title('Original Image')\n",
    "\n",
    "axes[1].imshow(noise_np.transpose(1, 2, 0))  # Assuming noise is in CHW format\n",
    "axes[1].set_title('Adversarial Noise')\n",
    "\n",
    "axes[2].imshow(adv_image_np.transpose(1, 2, 0))  # Assuming adversarial image is in CHW format\n",
    "axes[2].set_title('Adversarial Image')\n",
    "\n",
    "plt.show()\n"
   ]
  },
  {
   "cell_type": "code",
   "execution_count": 13,
   "metadata": {},
   "outputs": [
    {
     "name": "stdout",
     "output_type": "stream",
     "text": [
      "Testing the Model...\n",
      "------------------------------\n",
      "Accuracy for class: plane is 64.1 %\n",
      "Accuracy for class: car   is 1.3 %\n",
      "Accuracy for class: bird  is 14.2 %\n",
      "Accuracy for class: cat   is 3.1 %\n",
      "Accuracy for class: deer  is 64.7 %\n",
      "Accuracy for class: dog   is 26.4 %\n",
      "Accuracy for class: frog  is 22.9 %\n",
      "Accuracy for class: horse is 43.4 %\n",
      "Accuracy for class: ship  is 13.9 %\n",
      "Accuracy for class: truck is 4.3 %\n"
     ]
    }
   ],
   "source": [
    "cnn_exp.test_target(testloader, 3, 0.0001)"
   ]
  },
  {
   "cell_type": "code",
   "execution_count": 14,
   "metadata": {},
   "outputs": [
    {
     "name": "stdout",
     "output_type": "stream",
     "text": [
      "Testing the Model...\n",
      "------------------------------\n",
      "Accuracy for class: plane is 64.3 %\n",
      "Accuracy for class: car   is 1.3 %\n",
      "Accuracy for class: bird  is 13.8 %\n",
      "Accuracy for class: cat   is 3.2 %\n",
      "Accuracy for class: deer  is 64.5 %\n",
      "Accuracy for class: dog   is 26.7 %\n",
      "Accuracy for class: frog  is 23.2 %\n",
      "Accuracy for class: horse is 43.1 %\n",
      "Accuracy for class: ship  is 14.1 %\n",
      "Accuracy for class: truck is 4.4 %\n"
     ]
    }
   ],
   "source": [
    "cnn_exp.test_target(testloader, 7, 0.003)"
   ]
  },
  {
   "cell_type": "markdown",
   "metadata": {},
   "source": [
    "3. Adversarial Training"
   ]
  },
  {
   "cell_type": "code",
   "execution_count": 16,
   "metadata": {},
   "outputs": [
    {
     "name": "stdout",
     "output_type": "stream",
     "text": [
      "Training on the original dataset for 20 epochs\n",
      "Training the Model...\n",
      "------------------------------\n"
     ]
    },
    {
     "name": "stdout",
     "output_type": "stream",
     "text": [
      "Epoch: 1/20...\t|\tLoss: 2.3036\t|\tTrain Accuracy: 9.16%\t|\tTime per Epoch: 1.41 seconds\n",
      "Epoch: 2/20...\t|\tLoss: 2.3011\t|\tTrain Accuracy: 9.75%\t|\tTime per Epoch: 1.35 seconds\n",
      "Epoch: 3/20...\t|\tLoss: 2.2980\t|\tTrain Accuracy: 10.26%\t|\tTime per Epoch: 1.44 seconds\n",
      "Epoch: 4/20...\t|\tLoss: 2.2935\t|\tTrain Accuracy: 10.80%\t|\tTime per Epoch: 1.37 seconds\n",
      "Epoch: 5/20...\t|\tLoss: 2.2854\t|\tTrain Accuracy: 11.82%\t|\tTime per Epoch: 1.39 seconds\n",
      "Epoch: 6/20...\t|\tLoss: 2.2672\t|\tTrain Accuracy: 15.91%\t|\tTime per Epoch: 1.42 seconds\n",
      "Epoch: 7/20...\t|\tLoss: 2.2358\t|\tTrain Accuracy: 18.94%\t|\tTime per Epoch: 1.36 seconds\n",
      "Epoch: 8/20...\t|\tLoss: 2.2025\t|\tTrain Accuracy: 22.05%\t|\tTime per Epoch: 1.37 seconds\n",
      "Epoch: 9/20...\t|\tLoss: 2.1641\t|\tTrain Accuracy: 23.54%\t|\tTime per Epoch: 1.40 seconds\n",
      "Epoch: 10/20...\t|\tLoss: 2.1205\t|\tTrain Accuracy: 23.40%\t|\tTime per Epoch: 1.37 seconds\n",
      "Epoch: 11/20...\t|\tLoss: 2.0828\t|\tTrain Accuracy: 24.39%\t|\tTime per Epoch: 1.36 seconds\n",
      "Epoch: 12/20...\t|\tLoss: 2.0506\t|\tTrain Accuracy: 25.68%\t|\tTime per Epoch: 1.51 seconds\n",
      "Epoch: 13/20...\t|\tLoss: 2.0205\t|\tTrain Accuracy: 26.99%\t|\tTime per Epoch: 1.60 seconds\n",
      "Epoch: 14/20...\t|\tLoss: 1.9929\t|\tTrain Accuracy: 28.35%\t|\tTime per Epoch: 1.45 seconds\n",
      "Epoch: 15/20...\t|\tLoss: 1.9677\t|\tTrain Accuracy: 29.58%\t|\tTime per Epoch: 1.54 seconds\n",
      "Epoch: 16/20...\t|\tLoss: 1.9444\t|\tTrain Accuracy: 30.52%\t|\tTime per Epoch: 1.63 seconds\n",
      "Epoch: 17/20...\t|\tLoss: 1.9241\t|\tTrain Accuracy: 31.19%\t|\tTime per Epoch: 1.60 seconds\n",
      "Epoch: 18/20...\t|\tLoss: 1.9047\t|\tTrain Accuracy: 31.85%\t|\tTime per Epoch: 1.72 seconds\n",
      "Epoch: 19/20...\t|\tLoss: 1.8867\t|\tTrain Accuracy: 32.51%\t|\tTime per Epoch: 1.53 seconds\n",
      "Epoch: 20/20...\t|\tLoss: 1.8681\t|\tTrain Accuracy: 32.91%\t|\tTime per Epoch: 1.73 seconds\n",
      "Training on the adversarial dataset for 20 epochs\n",
      "Training the Model with Adversarial Training...\n",
      "--------------------------------------------------\n",
      "Epoch: 1/10...\t|\tLoss: 1.9643\t|\tTrain Accuracy: 33.21%\t|\tTime per Epoch: 2.74 seconds\n",
      "Epoch: 2/10...\t|\tLoss: 1.9397\t|\tTrain Accuracy: 33.46%\t|\tTime per Epoch: 2.61 seconds\n",
      "Epoch: 3/10...\t|\tLoss: 1.9241\t|\tTrain Accuracy: 33.63%\t|\tTime per Epoch: 2.62 seconds\n",
      "Epoch: 4/10...\t|\tLoss: 1.9102\t|\tTrain Accuracy: 34.04%\t|\tTime per Epoch: 2.64 seconds\n",
      "Epoch: 5/10...\t|\tLoss: 1.8975\t|\tTrain Accuracy: 34.48%\t|\tTime per Epoch: 2.68 seconds\n",
      "Epoch: 6/10...\t|\tLoss: 1.8841\t|\tTrain Accuracy: 34.80%\t|\tTime per Epoch: 2.66 seconds\n",
      "Epoch: 7/10...\t|\tLoss: 1.8721\t|\tTrain Accuracy: 35.30%\t|\tTime per Epoch: 2.66 seconds\n",
      "Epoch: 8/10...\t|\tLoss: 1.8588\t|\tTrain Accuracy: 35.89%\t|\tTime per Epoch: 2.67 seconds\n",
      "Epoch: 9/10...\t|\tLoss: 1.8457\t|\tTrain Accuracy: 36.49%\t|\tTime per Epoch: 2.75 seconds\n",
      "Epoch: 10/10...\t|\tLoss: 1.8316\t|\tTrain Accuracy: 36.86%\t|\tTime per Epoch: 2.74 seconds\n",
      "Testing on the original dataset\n",
      "Testing the Model...\n",
      "------------------------------\n",
      "Accuracy for class: plane is 40.5 %\n",
      "Accuracy for class: car   is 49.4 %\n",
      "Accuracy for class: bird  is 7.4 %\n",
      "Accuracy for class: cat   is 22.7 %\n",
      "Accuracy for class: deer  is 28.4 %\n",
      "Accuracy for class: dog   is 30.0 %\n",
      "Accuracy for class: frog  is 60.3 %\n",
      "Accuracy for class: horse is 42.2 %\n",
      "Accuracy for class: ship  is 47.1 %\n",
      "Accuracy for class: truck is 45.7 %\n"
     ]
    }
   ],
   "source": [
    "Adv_train = Utils(Net)\n",
    "print(\"Training on the original dataset for 20 epochs\")\n",
    "Adv_train.train(trainloader, 20)\n",
    "print(\"Training on the adversarial dataset for 20 epochs\")\n",
    "Adv_train.train_adversarial(trainloader, 0.001,0.5,10)\n",
    "print(\"Testing on the original dataset\")\n",
    "Adv_train.test(testloader)"
   ]
  },
  {
   "cell_type": "markdown",
   "metadata": {},
   "source": []
  }
 ],
 "metadata": {
  "kernelspec": {
   "display_name": "ptrch",
   "language": "python",
   "name": "python3"
  },
  "language_info": {
   "codemirror_mode": {
    "name": "ipython",
    "version": 3
   },
   "file_extension": ".py",
   "mimetype": "text/x-python",
   "name": "python",
   "nbconvert_exporter": "python",
   "pygments_lexer": "ipython3",
   "version": "3.9.0"
  },
  "orig_nbformat": 4
 },
 "nbformat": 4,
 "nbformat_minor": 2
}
